{
 "cells": [
  {
   "cell_type": "code",
   "execution_count": 1,
   "metadata": {},
   "outputs": [
    {
     "data": {
      "text/html": [
       "<pre style=\"white-space:pre;overflow-x:auto;line-height:normal;font-family:Menlo,'DejaVu Sans Mono',consolas,'Courier New',monospace\">Manim Community <span style=\"color: #008000; text-decoration-color: #008000\">v0.11.0</span>\n",
       "\n",
       "</pre>\n"
      ],
      "text/plain": [
       "Manim Community \u001b[32mv0.\u001b[0m\u001b[32m11.0\u001b[0m\n",
       "\n"
      ]
     },
     "metadata": {},
     "output_type": "display_data"
    }
   ],
   "source": [
    "from manim import *"
   ]
  },
  {
   "cell_type": "code",
   "execution_count": 46,
   "metadata": {},
   "outputs": [],
   "source": [
    "T = TexTemplate()\n",
    "T.add_to_preamble(r'\\usepackage{relsize}')\n",
    "T.add_to_preamble(r'\\usepackage{twemojis}')\n",
    "T.add_to_preamble(r'\\setlength\\fboxrule{1sp}')\n",
    "T.add_to_preamble(r'\\newcommand{\\e}[1]{\\fbox{\\twemoji{#1}}}')\n",
    "\n",
    "TOP_LEFT = Point(config.frame_width * LEFT / 2 + config.frame_height * UP / 2)\n",
    "\n",
    "TEX_KWARGS = {\n",
    "    'tex_template': T,\n",
    "    'font_size': 70,\n",
    "    'color': None\n",
    "}"
   ]
  },
  {
   "cell_type": "code",
   "execution_count": 3,
   "metadata": {},
   "outputs": [
    {
     "name": "stderr",
     "output_type": "stream",
     "text": []
    },
    {
     "data": {
      "text/html": [
       "<video src=\"media/jupyter/WriteStuff@2021-10-28@16-22-28.mp4\" controls autoplay loop style=\"max-width: 25vw;\"  >\n",
       "      Your browser does not support the <code>video</code> element.\n",
       "    </video>"
      ],
      "text/plain": [
       "<IPython.core.display.Video object>"
      ]
     },
     "metadata": {},
     "output_type": "display_data"
    }
   ],
   "source": [
    "%%manim -qm -v WARNING WriteStuff\n",
    "\n",
    "class WriteStuff(Scene):\n",
    "    def construct(self):\n",
    "        example_tex = MathTex(\n",
    "            r'\\e{cry}',\n",
    "            r'+',\n",
    "            r'\\e{rofl}',\n",
    "            r'=',\n",
    "            r'\\e{ok_hand} \\e{sweat_drops}',\n",
    "            tex_template=T,\n",
    "            font_size=144,\n",
    "            color = None\n",
    "        )\n",
    "        example_tex.set_color_by_tex('+', WHITE)\n",
    "        example_tex.set_color_by_tex('=', WHITE)\n",
    "        \n",
    "        self.play(Write(example_tex))\n",
    "        self.wait()"
   ]
  },
  {
   "cell_type": "code",
   "execution_count": 65,
   "metadata": {},
   "outputs": [
    {
     "name": "stderr",
     "output_type": "stream",
     "text": []
    },
    {
     "data": {
      "text/html": [
       "<video src=\"media/jupyter/MeasurableSpaceExample1@2021-10-28@18-18-45.mp4\" controls autoplay loop style=\"max-width: 25vw;\"  >\n",
       "      Your browser does not support the <code>video</code> element.\n",
       "    </video>"
      ],
      "text/plain": [
       "<IPython.core.display.Video object>"
      ]
     },
     "metadata": {},
     "output_type": "display_data"
    }
   ],
   "source": [
    "%%manim -qm -v WARNING MeasurableSpaceExample1\n",
    "\n",
    "class MeasurableSpaceExample1(Scene):\n",
    "    def construct(self):\n",
    "        e1_parts = [\n",
    "            'X', '=', r'\\{',\n",
    "            r'\\e{pineapple}', ',',\n",
    "            r'\\e{duck}', ',',\n",
    "            r'\\e{crayon}', ',',\n",
    "            r'\\e{maple leaf}', ',',\n",
    "            r'\\e{leaves}', ',',\n",
    "            r'\\e{four leaf clover}',\n",
    "            r'\\}'\n",
    "        ]\n",
    "        eqn_len = len(e1_parts)\n",
    "        e1 = MathTex(*e1_parts, **TEX_KWARGS)\n",
    "        [e1.set_color_by_tex(t, WHITE) for t in ('X', '=', r'\\{', ',', r'\\}')]\n",
    "\n",
    "        self.wait(3)\n",
    "        self.play(*(Write(e1[i]) for i in [0,1,2,eqn_len-1]))\n",
    "        self.wait(2.7)\n",
    "        self.play(Write(e1[3]), Write(e1[4]))\n",
    "        self.play(Write(e1[5]), Write(e1[6]))\n",
    "        self.play(Write(e1[7]), Write(e1[8]))\n",
    "        self.play(*(Write(e1[i]) for i in range(9, eqn_len)))\n",
    "        # self.add(e1)\n",
    "\n",
    "        e1_ = e1.copy().align_to(TOP_LEFT, LEFT).align_to(TOP_LEFT, UP).shift(RIGHT, DOWN)\n",
    "        self.play(e1.animate.move_to(e1_))\n",
    "        self.wait(0.5)\n",
    "\n",
    "        e2 = MathTex(r'\\mu', '=', r'\\!', r'\\mathlarger{\\e{balance scale}}', **TEX_KWARGS)\n",
    "        [e2.set_color_by_tex(t, WHITE) for t in ('mu', '=')]\n",
    "        self.play(Write(e2, run_time = 0.5))\n",
    "\n",
    "        e2_ = e2.copy().next_to(e1, DOWN).align_to(e1, LEFT)\n",
    "        self.play(e2.animate.move_to(e2_))\n",
    "        self.wait()"
   ]
  },
  {
   "cell_type": "code",
   "execution_count": null,
   "metadata": {},
   "outputs": [],
   "source": []
  }
 ],
 "metadata": {
  "interpreter": {
   "hash": "aefba3b8d79828637bd7c13b7dfd16b4e7e65b07811eea10361d86810eaa6fe6"
  },
  "kernelspec": {
   "display_name": "Python 3.9.6 64-bit ('3.9.6': pyenv)",
   "name": "python3"
  },
  "language_info": {
   "codemirror_mode": {
    "name": "ipython",
    "version": 3
   },
   "file_extension": ".py",
   "mimetype": "text/x-python",
   "name": "python",
   "nbconvert_exporter": "python",
   "pygments_lexer": "ipython3",
   "version": "3.9.6"
  },
  "orig_nbformat": 4
 },
 "nbformat": 4,
 "nbformat_minor": 2
}
