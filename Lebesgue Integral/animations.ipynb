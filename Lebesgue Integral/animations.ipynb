{
 "cells": [
  {
   "cell_type": "code",
   "execution_count": 1,
   "metadata": {},
   "outputs": [
    {
     "data": {
      "text/html": [
       "<pre style=\"white-space:pre;overflow-x:auto;line-height:normal;font-family:Menlo,'DejaVu Sans Mono',consolas,'Courier New',monospace\">Manim Community <span style=\"color: #008000; text-decoration-color: #008000\">v0.11.0</span>\n",
       "\n",
       "</pre>\n"
      ],
      "text/plain": [
       "Manim Community \u001b[32mv0.\u001b[0m\u001b[32m11.0\u001b[0m\n",
       "\n"
      ]
     },
     "metadata": {},
     "output_type": "display_data"
    }
   ],
   "source": [
    "from manim import *"
   ]
  },
  {
   "cell_type": "code",
   "execution_count": 6,
   "metadata": {},
   "outputs": [
    {
     "name": "stderr",
     "output_type": "stream",
     "text": []
    },
    {
     "data": {
      "text/html": [
       "<video src=\"media/jupyter/WriteStuff@2021-10-24@21-57-17.mp4\" controls autoplay loop style=\"max-width: 25vw;\"  >\n",
       "      Your browser does not support the <code>video</code> element.\n",
       "    </video>"
      ],
      "text/plain": [
       "<IPython.core.display.Video object>"
      ]
     },
     "metadata": {},
     "output_type": "display_data"
    }
   ],
   "source": [
    "%%manim -qm -v WARNING WriteStuff\n",
    "\n",
    "\n",
    "temp = TexTemplate()\n",
    "temp.add_to_preamble(r'\\usepackage{twemojis}')\n",
    "temp.add_to_preamble(r'\\usepackage{calc}')\n",
    "temp.add_to_preamble(r'\\setlength\\fboxrule{1sp}')\n",
    "temp.add_to_preamble(r'\\newcommand{\\e}[1]{\\fbox{\\twemoji{#1}}}')\n",
    "\n",
    "\n",
    "\n",
    "class WriteStuff(Scene):\n",
    "    def construct(self):\n",
    "        example_tex = MathTex(\n",
    "            r'\\e{cry}',\n",
    "            r'+',\n",
    "            r'\\e{rofl}',\n",
    "            r'=',\n",
    "            r'\\e{ok_hand} \\e{sweat_drops}',\n",
    "            tex_template=temp,\n",
    "            font_size=144,\n",
    "            color = None\n",
    "        )\n",
    "        example_tex.set_color_by_tex('+', WHITE)\n",
    "        example_tex.set_color_by_tex('=', WHITE)\n",
    "        \n",
    "        self.play(Write(example_tex))\n",
    "        self.add(example_tex)\n",
    "        self.wait()"
   ]
  },
  {
   "cell_type": "code",
   "execution_count": null,
   "metadata": {},
   "outputs": [],
   "source": []
  }
 ],
 "metadata": {
  "interpreter": {
   "hash": "aefba3b8d79828637bd7c13b7dfd16b4e7e65b07811eea10361d86810eaa6fe6"
  },
  "kernelspec": {
   "display_name": "Python 3.9.6 64-bit ('3.9.6': pyenv)",
   "name": "python3"
  },
  "language_info": {
   "codemirror_mode": {
    "name": "ipython",
    "version": 3
   },
   "file_extension": ".py",
   "mimetype": "text/x-python",
   "name": "python",
   "nbconvert_exporter": "python",
   "pygments_lexer": "ipython3",
   "version": "3.9.6"
  },
  "orig_nbformat": 4
 },
 "nbformat": 4,
 "nbformat_minor": 2
}
