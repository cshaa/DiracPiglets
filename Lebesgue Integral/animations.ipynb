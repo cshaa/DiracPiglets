{
 "cells": [
  {
   "cell_type": "code",
   "execution_count": 1,
   "metadata": {},
   "outputs": [
    {
     "data": {
      "text/html": [
       "<pre style=\"white-space:pre;overflow-x:auto;line-height:normal;font-family:Menlo,'DejaVu Sans Mono',consolas,'Courier New',monospace\">Manim Community <span style=\"color: #008000; text-decoration-color: #008000\">v0.11.0</span>\n",
       "\n",
       "</pre>\n"
      ],
      "text/plain": [
       "Manim Community \u001b[32mv0.\u001b[0m\u001b[32m11.0\u001b[0m\n",
       "\n"
      ]
     },
     "metadata": {},
     "output_type": "display_data"
    }
   ],
   "source": [
    "from manim import *"
   ]
  },
  {
   "cell_type": "code",
   "execution_count": 2,
   "metadata": {},
   "outputs": [],
   "source": [
    "T = TexTemplate()\n",
    "T.add_to_preamble(r'\\usepackage{relsize}')\n",
    "T.add_to_preamble(r'\\usepackage{twemojis}')\n",
    "T.add_to_preamble(r'\\setlength\\fboxrule{1sp}')\n",
    "T.add_to_preamble(r'\\newcommand{\\e}[1]{\\fbox{\\twemoji{#1}}}')\n",
    "\n",
    "TOP_LEFT = Point(config.frame_width * LEFT / 2 + config.frame_height * UP / 2)\n",
    "\n",
    "TEX_KWARGS = {\n",
    "    'tex_template': T,\n",
    "    'font_size': 70,\n",
    "    'color': None\n",
    "}"
   ]
  },
  {
   "cell_type": "code",
   "execution_count": 3,
   "metadata": {},
   "outputs": [
    {
     "name": "stderr",
     "output_type": "stream",
     "text": []
    },
    {
     "data": {
      "text/html": [
       "<video src=\"media/jupyter/WriteStuff@2021-10-29@12-52-29.mp4\" controls autoplay loop style=\"max-width: 25vw;\"  >\n",
       "      Your browser does not support the <code>video</code> element.\n",
       "    </video>"
      ],
      "text/plain": [
       "<IPython.core.display.Video object>"
      ]
     },
     "metadata": {},
     "output_type": "display_data"
    }
   ],
   "source": [
    "%%manim -qm -v WARNING WriteStuff\n",
    "\n",
    "class WriteStuff(Scene):\n",
    "    def construct(self):\n",
    "        example_tex = MathTex(\n",
    "            r'\\e{cry}',\n",
    "            r'+',\n",
    "            r'\\e{rofl}',\n",
    "            r'=',\n",
    "            r'\\e{ok_hand} \\e{sweat_drops}',\n",
    "            tex_template=T,\n",
    "            font_size=144,\n",
    "            color = None\n",
    "        )\n",
    "        example_tex.set_color_by_tex('+', WHITE)\n",
    "        example_tex.set_color_by_tex('=', WHITE)\n",
    "        \n",
    "        self.play(Write(example_tex))\n",
    "        self.wait()"
   ]
  },
  {
   "cell_type": "code",
   "execution_count": 43,
   "metadata": {},
   "outputs": [
    {
     "name": "stderr",
     "output_type": "stream",
     "text": []
    },
    {
     "data": {
      "text/html": [
       "<video src=\"media/jupyter/MeasurableSpaceExample1@2021-10-29@15-27-30.mp4\" controls autoplay loop style=\"max-width: 25vw;\"  >\n",
       "      Your browser does not support the <code>video</code> element.\n",
       "    </video>"
      ],
      "text/plain": [
       "<IPython.core.display.Video object>"
      ]
     },
     "metadata": {},
     "output_type": "display_data"
    }
   ],
   "source": [
    "%%manim -qm -v WARNING MeasurableSpaceExample1\n",
    "\n",
    "class MeasurableSpaceExample1(MovingCameraScene):\n",
    "    def construct(self):\n",
    "        SKIP = True\n",
    "\n",
    "        e1_parts = [\n",
    "            'X', '=', r'\\{',\n",
    "            r'\\e{pineapple}', ',',\n",
    "            r'\\e{duck}', ',',\n",
    "            r'\\e{crayon}', ',',\n",
    "            r'\\e{maple leaf}', ',',\n",
    "            r'\\e{leaves}', ',',\n",
    "            r'\\e{four leaf clover}',\n",
    "            r'\\}'\n",
    "        ]\n",
    "        eqn_len = len(e1_parts)\n",
    "        e1 = MathTex(*e1_parts, **TEX_KWARGS)\n",
    "        [e1.set_color_by_tex(t, WHITE) for t in ('X', '=', r'\\{', ',', r'\\}')]\n",
    "        e1_ = e1.copy().align_to(TOP_LEFT, LEFT).align_to(TOP_LEFT, UP).shift(RIGHT, DOWN)\n",
    "\n",
    "        if SKIP:\n",
    "            self.add(e1_)\n",
    "        else:\n",
    "            self.wait(3)\n",
    "            self.play(*(Write(e1[i]) for i in [0,1,2,eqn_len-1]))\n",
    "            self.wait(2.7)\n",
    "            self.play(Write(e1[3]), Write(e1[4]))\n",
    "            self.play(Write(e1[5]), Write(e1[6]))\n",
    "            self.play(Write(e1[7]), Write(e1[8]))\n",
    "            self.play(*(Write(e1[i]) for i in range(9, eqn_len)))\n",
    "            self.play(e1.animate.move_to(e1_))\n",
    "            self.wait(0.5)\n",
    "\n",
    "\n",
    "        e2_parts = [\n",
    "            r'\\mu',\n",
    "            '=',\n",
    "            r'\\!\\mathlarger{\\e{balance scale}}',\n",
    "            r': M \\to \\mathbb{R}',\n",
    "        ]\n",
    "        e2_len = len(e2_parts)\n",
    "        e2 = MathTex(*e2_parts, **TEX_KWARGS)\n",
    "        [e2.set_color_by_tex(t, WHITE) for t in ('mu', '=', 'to')]\n",
    "        e2_ = e2.copy()\n",
    "        e2_.next_to(e1_.get_part_by_tex('='), DOWN, submobject_to_align=e2.get_part_by_tex('='))\n",
    "        e2_.shift(DOWN*.8)\n",
    "\n",
    "        if SKIP:\n",
    "            self.add(e2_)\n",
    "        else:\n",
    "            self.play(*(Write(e2[i]) for i in (0,1,2)))\n",
    "            self.wait(3)\n",
    "            self.play(Write(e2[3]))\n",
    "            self.play(e2.animate.move_to(e2_))\n",
    "            self.wait(4)\n",
    "\n",
    "        e3 = MathTex(\n",
    "            r'\\{', r'\\e{duck}', ',',\n",
    "            r'\\e{pineapple}',\n",
    "            r'\\} \\in M', **TEX_KWARGS)\n",
    "        [e3.set_color_by_tex(t, WHITE) for t in (r'\\{', ',', r'\\}', 'M')]\n",
    "        e3.shift(3*LEFT)\n",
    "\n",
    "        e4 = MathTex(\n",
    "            r'\\{', r'\\e{duck}', ',',\n",
    "            r'\\e{crayon}',\n",
    "            r'\\} \\in M', **TEX_KWARGS)\n",
    "        [e4.set_color_by_tex(t, WHITE) for t in (r'\\{', ',', r'\\}', 'M')]\n",
    "        e4.next_to(e3[4], DOWN, submobject_to_align=e4[4])\n",
    "\n",
    "        e5 = MathTex(\n",
    "            r'\\{', \n",
    "            r'\\e{maple leaf}', ',',\n",
    "            r'\\e{leaves}', ',',\n",
    "            r'\\e{four leaf clover}',\n",
    "            r'\\} \\in M', **TEX_KWARGS)\n",
    "        [e5.set_color_by_tex(t, WHITE) for t in (r'\\{', ',', r'\\}', 'M')]\n",
    "        e5.next_to(e4[4], DOWN, submobject_to_align=e5[6])\n",
    "        \n",
    "        if SKIP:\n",
    "            self.add(e3, e4, e5)\n",
    "        else:\n",
    "            self.play(Write(e3))\n",
    "            self.wait()\n",
    "            self.play(Write(e4))\n",
    "            self.wait()\n",
    "            self.play(Write(e5))\n",
    "            self.wait()\n",
    "\n",
    "\n",
    "        self.play(\n",
    "            self.camera.frame.animate.scale(1.8).shift(5*RIGHT, 3*DOWN)\n",
    "        )\n",
    "\n",
    "\n",
    "        \n",
    "\n",
    "        self.wait(5)"
   ]
  },
  {
   "cell_type": "code",
   "execution_count": 23,
   "metadata": {},
   "outputs": [
    {
     "data": {
      "text/html": [
       "<pre style=\"white-space:pre;overflow-x:auto;line-height:normal;font-family:Menlo,'DejaVu Sans Mono',consolas,'Courier New',monospace\"><span style=\"color: #7fbfbf; text-decoration-color: #7fbfbf\">[10/29/21 15:02:59] </span><span style=\"color: #800000; text-decoration-color: #800000; font-weight: bold\">ERROR   </span> LaTeX compilation error: Argument of     <a href=\"file:///home/csha/.pyenv/versions/3.9.6/lib/python3.9/site-packages/manim/utils/tex_file_writing.py\"><span style=\"color: #7f7f7f; text-decoration-color: #7f7f7f\">tex_file_writing.py</span></a><span style=\"color: #7f7f7f; text-decoration-color: #7f7f7f\">:204</span>\n",
       "                             \\frac  has an extra <span style=\"font-weight: bold\">}</span>.                                          \n",
       "                                                                                             \n",
       "</pre>\n"
      ],
      "text/plain": [
       "\u001b[2;36m[10/29/21 15:02:59]\u001b[0m\u001b[2;36m \u001b[0m\u001b[1;31mERROR   \u001b[0m LaTeX compilation error: Argument of     \u001b]8;id=976365;file:///home/csha/.pyenv/versions/3.9.6/lib/python3.9/site-packages/manim/utils/tex_file_writing.py\u001b\\\u001b[2mtex_file_writing.py\u001b[0m\u001b]8;;\u001b\\\u001b[2m:204\u001b[0m\n",
       "                             \\frac  has an extra \u001b[1m}\u001b[0m.                                          \n",
       "                                                                                             \n"
      ]
     },
     "metadata": {},
     "output_type": "display_data"
    },
    {
     "data": {
      "text/html": [
       "<pre style=\"white-space:pre;overflow-x:auto;line-height:normal;font-family:Menlo,'DejaVu Sans Mono',consolas,'Courier New',monospace\"><span style=\"color: #7fbfbf; text-decoration-color: #7fbfbf\">                    </span><span style=\"color: #800000; text-decoration-color: #800000; font-weight: bold\">ERROR   </span> Context for error:                       <a href=\"file:///home/csha/.pyenv/versions/3.9.6/lib/python3.9/site-packages/manim/utils/tex_file_writing.py\"><span style=\"color: #7f7f7f; text-decoration-color: #7f7f7f\">tex_file_writing.py</span></a><span style=\"color: #7f7f7f; text-decoration-color: #7f7f7f\">:230</span>\n",
       "                                                                                             \n",
       "                             \\begin<span style=\"font-weight: bold\">{</span>align*<span style=\"font-weight: bold\">}</span>                                                  \n",
       "                             <span style=\"font-weight: bold\">{</span>\\frac<span style=\"font-weight: bold\">{</span> <span style=\"color: #008000; text-decoration-color: #008000\">1</span><span style=\"font-weight: bold\">}}</span>                                                     \n",
       "                             \\end<span style=\"font-weight: bold\">{</span>align*<span style=\"font-weight: bold\">}</span>                                                    \n",
       "                             ^ this line                                                     \n",
       "                                                                                             \n",
       "</pre>\n"
      ],
      "text/plain": [
       "\u001b[2;36m                   \u001b[0m\u001b[2;36m \u001b[0m\u001b[1;31mERROR   \u001b[0m Context for error:                       \u001b]8;id=374262;file:///home/csha/.pyenv/versions/3.9.6/lib/python3.9/site-packages/manim/utils/tex_file_writing.py\u001b\\\u001b[2mtex_file_writing.py\u001b[0m\u001b]8;;\u001b\\\u001b[2m:230\u001b[0m\n",
       "                                                                                             \n",
       "                             \\begin\u001b[1m{\u001b[0malign*\u001b[1m}\u001b[0m                                                  \n",
       "                             \u001b[1m{\u001b[0m\\frac\u001b[1m{\u001b[0m \u001b[32m1\u001b[0m\u001b[1m}\u001b[0m\u001b[1m}\u001b[0m                                                     \n",
       "                             \\end\u001b[1m{\u001b[0malign*\u001b[1m}\u001b[0m                                                    \n",
       "                             ^ this line                                                     \n",
       "                                                                                             \n"
      ]
     },
     "metadata": {},
     "output_type": "display_data"
    },
    {
     "data": {
      "text/html": [
       "<pre style=\"white-space:pre;overflow-x:auto;line-height:normal;font-family:Menlo,'DejaVu Sans Mono',consolas,'Courier New',monospace\"><span style=\"color: #7fbfbf; text-decoration-color: #7fbfbf\">                    </span><span style=\"color: #800000; text-decoration-color: #800000; font-weight: bold\">ERROR   </span> A group of double braces, <span style=\"font-weight: bold\">{{</span> <span style=\"color: #808000; text-decoration-color: #808000\">...</span> <span style=\"font-weight: bold\">}}</span>, was      <a href=\"file:///home/csha/.pyenv/versions/3.9.6/lib/python3.9/site-packages/manim/mobject/svg/tex_mobject.py\"><span style=\"color: #7f7f7f; text-decoration-color: #7f7f7f\">tex_mobject.py</span></a><span style=\"color: #7f7f7f; text-decoration-color: #7f7f7f\">:292</span>\n",
       "                             detected in                                                     \n",
       "                             your string. Manim splits TeX strings at the                    \n",
       "                             double                                                          \n",
       "                             braces, which might have caused the current                     \n",
       "                             compilation error. If you didn't use the                        \n",
       "                             double brace                                                    \n",
       "                             split intentionally, add spaces between the                     \n",
       "                             braces to                                                       \n",
       "                             avoid the automatic splitting: <span style=\"font-weight: bold\">{{</span> <span style=\"color: #808000; text-decoration-color: #808000\">...</span> <span style=\"font-weight: bold\">}}</span> --&gt;                    \n",
       "                             <span style=\"font-weight: bold\">{</span> <span style=\"font-weight: bold\">{</span> <span style=\"color: #808000; text-decoration-color: #808000\">...</span> <span style=\"font-weight: bold\">}</span> <span style=\"font-weight: bold\">}</span>.                                                    \n",
       "                                                                                             \n",
       "</pre>\n"
      ],
      "text/plain": [
       "\u001b[2;36m                   \u001b[0m\u001b[2;36m \u001b[0m\u001b[1;31mERROR   \u001b[0m A group of double braces, \u001b[1m{\u001b[0m\u001b[1m{\u001b[0m \u001b[33m...\u001b[0m \u001b[1m}\u001b[0m\u001b[1m}\u001b[0m, was      \u001b]8;id=839394;file:///home/csha/.pyenv/versions/3.9.6/lib/python3.9/site-packages/manim/mobject/svg/tex_mobject.py\u001b\\\u001b[2mtex_mobject.py\u001b[0m\u001b]8;;\u001b\\\u001b[2m:292\u001b[0m\n",
       "                             detected in                                                     \n",
       "                             your string. Manim splits TeX strings at the                    \n",
       "                             double                                                          \n",
       "                             braces, which might have caused the current                     \n",
       "                             compilation error. If you didn't use the                        \n",
       "                             double brace                                                    \n",
       "                             split intentionally, add spaces between the                     \n",
       "                             braces to                                                       \n",
       "                             avoid the automatic splitting: \u001b[1m{\u001b[0m\u001b[1m{\u001b[0m \u001b[33m...\u001b[0m \u001b[1m}\u001b[0m\u001b[1m}\u001b[0m -->                    \n",
       "                             \u001b[1m{\u001b[0m \u001b[1m{\u001b[0m \u001b[33m...\u001b[0m \u001b[1m}\u001b[0m \u001b[1m}\u001b[0m.                                                    \n",
       "                                                                                             \n"
      ]
     },
     "metadata": {},
     "output_type": "display_data"
    },
    {
     "ename": "ValueError",
     "evalue": "latex error converting to dvi. See log output above or the log file: media/Tex/58d89d06a8c1c8f1.log",
     "output_type": "error",
     "traceback": [
      "\u001b[0;31m---------------------------------------------------------------------------\u001b[0m",
      "\u001b[0;31mValueError\u001b[0m                                Traceback (most recent call last)",
      "\u001b[0;32m/tmp/ipykernel_471050/1561981507.py\u001b[0m in \u001b[0;36m<module>\u001b[0;34m\u001b[0m\n\u001b[0;32m----> 1\u001b[0;31m \u001b[0mget_ipython\u001b[0m\u001b[0;34m(\u001b[0m\u001b[0;34m)\u001b[0m\u001b[0;34m.\u001b[0m\u001b[0mrun_cell_magic\u001b[0m\u001b[0;34m(\u001b[0m\u001b[0;34m'manim'\u001b[0m\u001b[0;34m,\u001b[0m \u001b[0;34m'-qm -v WARNING ColoredFrac'\u001b[0m\u001b[0;34m,\u001b[0m \u001b[0;34m\"\\nclass  ColoredFrac(Scene):\\n    def construct(self):\\n        eqn = MathTex(r'{\\\\frac{ 1 {{21}} }{7}}', font_size=144)\\n        eqn.set_color_by_tex('21', RED)\\n        self.add(eqn)\\n        self.wait()\\n\"\u001b[0m\u001b[0;34m)\u001b[0m\u001b[0;34m\u001b[0m\u001b[0;34m\u001b[0m\u001b[0m\n\u001b[0m",
      "\u001b[0;32m~/.pyenv/versions/3.9.6/lib/python3.9/site-packages/IPython/core/interactiveshell.py\u001b[0m in \u001b[0;36mrun_cell_magic\u001b[0;34m(self, magic_name, line, cell)\u001b[0m\n\u001b[1;32m   2404\u001b[0m             \u001b[0;32mwith\u001b[0m \u001b[0mself\u001b[0m\u001b[0;34m.\u001b[0m\u001b[0mbuiltin_trap\u001b[0m\u001b[0;34m:\u001b[0m\u001b[0;34m\u001b[0m\u001b[0;34m\u001b[0m\u001b[0m\n\u001b[1;32m   2405\u001b[0m                 \u001b[0margs\u001b[0m \u001b[0;34m=\u001b[0m \u001b[0;34m(\u001b[0m\u001b[0mmagic_arg_s\u001b[0m\u001b[0;34m,\u001b[0m \u001b[0mcell\u001b[0m\u001b[0;34m)\u001b[0m\u001b[0;34m\u001b[0m\u001b[0;34m\u001b[0m\u001b[0m\n\u001b[0;32m-> 2406\u001b[0;31m                 \u001b[0mresult\u001b[0m \u001b[0;34m=\u001b[0m \u001b[0mfn\u001b[0m\u001b[0;34m(\u001b[0m\u001b[0;34m*\u001b[0m\u001b[0margs\u001b[0m\u001b[0;34m,\u001b[0m \u001b[0;34m**\u001b[0m\u001b[0mkwargs\u001b[0m\u001b[0;34m)\u001b[0m\u001b[0;34m\u001b[0m\u001b[0;34m\u001b[0m\u001b[0m\n\u001b[0m\u001b[1;32m   2407\u001b[0m             \u001b[0;32mreturn\u001b[0m \u001b[0mresult\u001b[0m\u001b[0;34m\u001b[0m\u001b[0;34m\u001b[0m\u001b[0m\n\u001b[1;32m   2408\u001b[0m \u001b[0;34m\u001b[0m\u001b[0m\n",
      "\u001b[0;32m~/.pyenv/versions/3.9.6/lib/python3.9/site-packages/decorator.py\u001b[0m in \u001b[0;36mfun\u001b[0;34m(*args, **kw)\u001b[0m\n\u001b[1;32m    230\u001b[0m             \u001b[0;32mif\u001b[0m \u001b[0;32mnot\u001b[0m \u001b[0mkwsyntax\u001b[0m\u001b[0;34m:\u001b[0m\u001b[0;34m\u001b[0m\u001b[0;34m\u001b[0m\u001b[0m\n\u001b[1;32m    231\u001b[0m                 \u001b[0margs\u001b[0m\u001b[0;34m,\u001b[0m \u001b[0mkw\u001b[0m \u001b[0;34m=\u001b[0m \u001b[0mfix\u001b[0m\u001b[0;34m(\u001b[0m\u001b[0margs\u001b[0m\u001b[0;34m,\u001b[0m \u001b[0mkw\u001b[0m\u001b[0;34m,\u001b[0m \u001b[0msig\u001b[0m\u001b[0;34m)\u001b[0m\u001b[0;34m\u001b[0m\u001b[0;34m\u001b[0m\u001b[0m\n\u001b[0;32m--> 232\u001b[0;31m             \u001b[0;32mreturn\u001b[0m \u001b[0mcaller\u001b[0m\u001b[0;34m(\u001b[0m\u001b[0mfunc\u001b[0m\u001b[0;34m,\u001b[0m \u001b[0;34m*\u001b[0m\u001b[0;34m(\u001b[0m\u001b[0mextras\u001b[0m \u001b[0;34m+\u001b[0m \u001b[0margs\u001b[0m\u001b[0;34m)\u001b[0m\u001b[0;34m,\u001b[0m \u001b[0;34m**\u001b[0m\u001b[0mkw\u001b[0m\u001b[0;34m)\u001b[0m\u001b[0;34m\u001b[0m\u001b[0;34m\u001b[0m\u001b[0m\n\u001b[0m\u001b[1;32m    233\u001b[0m     \u001b[0mfun\u001b[0m\u001b[0;34m.\u001b[0m\u001b[0m__name__\u001b[0m \u001b[0;34m=\u001b[0m \u001b[0mfunc\u001b[0m\u001b[0;34m.\u001b[0m\u001b[0m__name__\u001b[0m\u001b[0;34m\u001b[0m\u001b[0;34m\u001b[0m\u001b[0m\n\u001b[1;32m    234\u001b[0m     \u001b[0mfun\u001b[0m\u001b[0;34m.\u001b[0m\u001b[0m__doc__\u001b[0m \u001b[0;34m=\u001b[0m \u001b[0mfunc\u001b[0m\u001b[0;34m.\u001b[0m\u001b[0m__doc__\u001b[0m\u001b[0;34m\u001b[0m\u001b[0;34m\u001b[0m\u001b[0m\n",
      "\u001b[0;32m~/.pyenv/versions/3.9.6/lib/python3.9/site-packages/IPython/core/magic.py\u001b[0m in \u001b[0;36m<lambda>\u001b[0;34m(f, *a, **k)\u001b[0m\n\u001b[1;32m    185\u001b[0m     \u001b[0;31m# but it's overkill for just that one bit of state.\u001b[0m\u001b[0;34m\u001b[0m\u001b[0;34m\u001b[0m\u001b[0;34m\u001b[0m\u001b[0m\n\u001b[1;32m    186\u001b[0m     \u001b[0;32mdef\u001b[0m \u001b[0mmagic_deco\u001b[0m\u001b[0;34m(\u001b[0m\u001b[0marg\u001b[0m\u001b[0;34m)\u001b[0m\u001b[0;34m:\u001b[0m\u001b[0;34m\u001b[0m\u001b[0;34m\u001b[0m\u001b[0m\n\u001b[0;32m--> 187\u001b[0;31m         \u001b[0mcall\u001b[0m \u001b[0;34m=\u001b[0m \u001b[0;32mlambda\u001b[0m \u001b[0mf\u001b[0m\u001b[0;34m,\u001b[0m \u001b[0;34m*\u001b[0m\u001b[0ma\u001b[0m\u001b[0;34m,\u001b[0m \u001b[0;34m**\u001b[0m\u001b[0mk\u001b[0m\u001b[0;34m:\u001b[0m \u001b[0mf\u001b[0m\u001b[0;34m(\u001b[0m\u001b[0;34m*\u001b[0m\u001b[0ma\u001b[0m\u001b[0;34m,\u001b[0m \u001b[0;34m**\u001b[0m\u001b[0mk\u001b[0m\u001b[0;34m)\u001b[0m\u001b[0;34m\u001b[0m\u001b[0;34m\u001b[0m\u001b[0m\n\u001b[0m\u001b[1;32m    188\u001b[0m \u001b[0;34m\u001b[0m\u001b[0m\n\u001b[1;32m    189\u001b[0m         \u001b[0;32mif\u001b[0m \u001b[0mcallable\u001b[0m\u001b[0;34m(\u001b[0m\u001b[0marg\u001b[0m\u001b[0;34m)\u001b[0m\u001b[0;34m:\u001b[0m\u001b[0;34m\u001b[0m\u001b[0;34m\u001b[0m\u001b[0m\n",
      "\u001b[0;32m~/.pyenv/versions/3.9.6/lib/python3.9/site-packages/manim/utils/ipython_magic.py\u001b[0m in \u001b[0;36mmanim\u001b[0;34m(self, line, cell, local_ns)\u001b[0m\n\u001b[1;32m    127\u001b[0m                     \u001b[0mSceneClass\u001b[0m \u001b[0;34m=\u001b[0m \u001b[0mlocal_ns\u001b[0m\u001b[0;34m[\u001b[0m\u001b[0mconfig\u001b[0m\u001b[0;34m[\u001b[0m\u001b[0;34m\"scene_names\"\u001b[0m\u001b[0;34m]\u001b[0m\u001b[0;34m[\u001b[0m\u001b[0;36m0\u001b[0m\u001b[0;34m]\u001b[0m\u001b[0;34m]\u001b[0m\u001b[0;34m\u001b[0m\u001b[0;34m\u001b[0m\u001b[0m\n\u001b[1;32m    128\u001b[0m                     \u001b[0mscene\u001b[0m \u001b[0;34m=\u001b[0m \u001b[0mSceneClass\u001b[0m\u001b[0;34m(\u001b[0m\u001b[0mrenderer\u001b[0m\u001b[0;34m=\u001b[0m\u001b[0mrenderer\u001b[0m\u001b[0;34m)\u001b[0m\u001b[0;34m\u001b[0m\u001b[0;34m\u001b[0m\u001b[0m\n\u001b[0;32m--> 129\u001b[0;31m                     \u001b[0mscene\u001b[0m\u001b[0;34m.\u001b[0m\u001b[0mrender\u001b[0m\u001b[0;34m(\u001b[0m\u001b[0;34m)\u001b[0m\u001b[0;34m\u001b[0m\u001b[0;34m\u001b[0m\u001b[0m\n\u001b[0m\u001b[1;32m    130\u001b[0m                 \u001b[0;32mfinally\u001b[0m\u001b[0;34m:\u001b[0m\u001b[0;34m\u001b[0m\u001b[0;34m\u001b[0m\u001b[0m\n\u001b[1;32m    131\u001b[0m                     \u001b[0;31m# Shader cache becomes invalid as the context is destroyed\u001b[0m\u001b[0;34m\u001b[0m\u001b[0;34m\u001b[0m\u001b[0;34m\u001b[0m\u001b[0m\n",
      "\u001b[0;32m~/.pyenv/versions/3.9.6/lib/python3.9/site-packages/manim/scene/scene.py\u001b[0m in \u001b[0;36mrender\u001b[0;34m(self, preview)\u001b[0m\n\u001b[1;32m    211\u001b[0m         \u001b[0mself\u001b[0m\u001b[0;34m.\u001b[0m\u001b[0msetup\u001b[0m\u001b[0;34m(\u001b[0m\u001b[0;34m)\u001b[0m\u001b[0;34m\u001b[0m\u001b[0;34m\u001b[0m\u001b[0m\n\u001b[1;32m    212\u001b[0m         \u001b[0;32mtry\u001b[0m\u001b[0;34m:\u001b[0m\u001b[0;34m\u001b[0m\u001b[0;34m\u001b[0m\u001b[0m\n\u001b[0;32m--> 213\u001b[0;31m             \u001b[0mself\u001b[0m\u001b[0;34m.\u001b[0m\u001b[0mconstruct\u001b[0m\u001b[0;34m(\u001b[0m\u001b[0;34m)\u001b[0m\u001b[0;34m\u001b[0m\u001b[0;34m\u001b[0m\u001b[0m\n\u001b[0m\u001b[1;32m    214\u001b[0m         \u001b[0;32mexcept\u001b[0m \u001b[0mEndSceneEarlyException\u001b[0m\u001b[0;34m:\u001b[0m\u001b[0;34m\u001b[0m\u001b[0;34m\u001b[0m\u001b[0m\n\u001b[1;32m    215\u001b[0m             \u001b[0;32mpass\u001b[0m\u001b[0;34m\u001b[0m\u001b[0;34m\u001b[0m\u001b[0m\n",
      "\u001b[0;32m<string>\u001b[0m in \u001b[0;36mconstruct\u001b[0;34m(self)\u001b[0m\n",
      "\u001b[0;32m~/.pyenv/versions/3.9.6/lib/python3.9/site-packages/manim/mobject/svg/tex_mobject.py\u001b[0m in \u001b[0;36m__init__\u001b[0;34m(self, arg_separator, substrings_to_isolate, tex_to_color_map, tex_environment, *tex_strings, **kwargs)\u001b[0m\n\u001b[1;32m    302\u001b[0m                     ),\n\u001b[1;32m    303\u001b[0m                 )\n\u001b[0;32m--> 304\u001b[0;31m             \u001b[0;32mraise\u001b[0m \u001b[0mcompilation_error\u001b[0m\u001b[0;34m\u001b[0m\u001b[0;34m\u001b[0m\u001b[0m\n\u001b[0m\u001b[1;32m    305\u001b[0m         \u001b[0mself\u001b[0m\u001b[0;34m.\u001b[0m\u001b[0mset_color_by_tex_to_color_map\u001b[0m\u001b[0;34m(\u001b[0m\u001b[0mself\u001b[0m\u001b[0;34m.\u001b[0m\u001b[0mtex_to_color_map\u001b[0m\u001b[0;34m)\u001b[0m\u001b[0;34m\u001b[0m\u001b[0;34m\u001b[0m\u001b[0m\n\u001b[1;32m    306\u001b[0m \u001b[0;34m\u001b[0m\u001b[0m\n",
      "\u001b[0;32m~/.pyenv/versions/3.9.6/lib/python3.9/site-packages/manim/mobject/svg/tex_mobject.py\u001b[0m in \u001b[0;36m__init__\u001b[0;34m(self, arg_separator, substrings_to_isolate, tex_to_color_map, tex_environment, *tex_strings, **kwargs)\u001b[0m\n\u001b[1;32m    287\u001b[0m                 \u001b[0;34m**\u001b[0m\u001b[0mkwargs\u001b[0m\u001b[0;34m,\u001b[0m\u001b[0;34m\u001b[0m\u001b[0;34m\u001b[0m\u001b[0m\n\u001b[1;32m    288\u001b[0m             )\n\u001b[0;32m--> 289\u001b[0;31m             \u001b[0mself\u001b[0m\u001b[0;34m.\u001b[0m\u001b[0mbreak_up_by_substrings\u001b[0m\u001b[0;34m(\u001b[0m\u001b[0;34m)\u001b[0m\u001b[0;34m\u001b[0m\u001b[0;34m\u001b[0m\u001b[0m\n\u001b[0m\u001b[1;32m    290\u001b[0m         \u001b[0;32mexcept\u001b[0m \u001b[0mValueError\u001b[0m \u001b[0;32mas\u001b[0m \u001b[0mcompilation_error\u001b[0m\u001b[0;34m:\u001b[0m\u001b[0;34m\u001b[0m\u001b[0;34m\u001b[0m\u001b[0m\n\u001b[1;32m    291\u001b[0m             \u001b[0;32mif\u001b[0m \u001b[0mself\u001b[0m\u001b[0;34m.\u001b[0m\u001b[0mbrace_notation_split_occurred\u001b[0m\u001b[0;34m:\u001b[0m\u001b[0;34m\u001b[0m\u001b[0;34m\u001b[0m\u001b[0m\n",
      "\u001b[0;32m~/.pyenv/versions/3.9.6/lib/python3.9/site-packages/manim/mobject/svg/tex_mobject.py\u001b[0m in \u001b[0;36mbreak_up_by_substrings\u001b[0;34m(self)\u001b[0m\n\u001b[1;32m    346\u001b[0m         \u001b[0mcurr_index\u001b[0m \u001b[0;34m=\u001b[0m \u001b[0;36m0\u001b[0m\u001b[0;34m\u001b[0m\u001b[0;34m\u001b[0m\u001b[0m\n\u001b[1;32m    347\u001b[0m         \u001b[0;32mfor\u001b[0m \u001b[0mtex_string\u001b[0m \u001b[0;32min\u001b[0m \u001b[0mself\u001b[0m\u001b[0;34m.\u001b[0m\u001b[0mtex_strings\u001b[0m\u001b[0;34m:\u001b[0m\u001b[0;34m\u001b[0m\u001b[0;34m\u001b[0m\u001b[0m\n\u001b[0;32m--> 348\u001b[0;31m             sub_tex_mob = SingleStringMathTex(\n\u001b[0m\u001b[1;32m    349\u001b[0m                 \u001b[0mtex_string\u001b[0m\u001b[0;34m,\u001b[0m\u001b[0;34m\u001b[0m\u001b[0;34m\u001b[0m\u001b[0m\n\u001b[1;32m    350\u001b[0m                 \u001b[0mtex_environment\u001b[0m\u001b[0;34m=\u001b[0m\u001b[0mself\u001b[0m\u001b[0;34m.\u001b[0m\u001b[0mtex_environment\u001b[0m\u001b[0;34m,\u001b[0m\u001b[0;34m\u001b[0m\u001b[0;34m\u001b[0m\u001b[0m\n",
      "\u001b[0;32m~/.pyenv/versions/3.9.6/lib/python3.9/site-packages/manim/mobject/svg/tex_mobject.py\u001b[0m in \u001b[0;36m__init__\u001b[0;34m(self, tex_string, stroke_width, fill_opacity, background_stroke_width, background_stroke_color, should_center, height, organize_left_to_right, tex_environment, tex_template, font_size, color, **kwargs)\u001b[0m\n\u001b[1;32m     88\u001b[0m         \u001b[0;32massert\u001b[0m \u001b[0misinstance\u001b[0m\u001b[0;34m(\u001b[0m\u001b[0mtex_string\u001b[0m\u001b[0;34m,\u001b[0m \u001b[0mstr\u001b[0m\u001b[0;34m)\u001b[0m\u001b[0;34m\u001b[0m\u001b[0;34m\u001b[0m\u001b[0m\n\u001b[1;32m     89\u001b[0m         \u001b[0mself\u001b[0m\u001b[0;34m.\u001b[0m\u001b[0mtex_string\u001b[0m \u001b[0;34m=\u001b[0m \u001b[0mtex_string\u001b[0m\u001b[0;34m\u001b[0m\u001b[0;34m\u001b[0m\u001b[0m\n\u001b[0;32m---> 90\u001b[0;31m         file_name = tex_to_svg_file(\n\u001b[0m\u001b[1;32m     91\u001b[0m             \u001b[0mself\u001b[0m\u001b[0;34m.\u001b[0m\u001b[0mget_modified_expression\u001b[0m\u001b[0;34m(\u001b[0m\u001b[0mtex_string\u001b[0m\u001b[0;34m)\u001b[0m\u001b[0;34m,\u001b[0m\u001b[0;34m\u001b[0m\u001b[0;34m\u001b[0m\u001b[0m\n\u001b[1;32m     92\u001b[0m             \u001b[0menvironment\u001b[0m\u001b[0;34m=\u001b[0m\u001b[0mself\u001b[0m\u001b[0;34m.\u001b[0m\u001b[0mtex_environment\u001b[0m\u001b[0;34m,\u001b[0m\u001b[0;34m\u001b[0m\u001b[0;34m\u001b[0m\u001b[0m\n",
      "\u001b[0;32m~/.pyenv/versions/3.9.6/lib/python3.9/site-packages/manim/utils/tex_file_writing.py\u001b[0m in \u001b[0;36mtex_to_svg_file\u001b[0;34m(expression, environment, tex_template)\u001b[0m\n\u001b[1;32m     44\u001b[0m         \u001b[0mtex_template\u001b[0m \u001b[0;34m=\u001b[0m \u001b[0mconfig\u001b[0m\u001b[0;34m[\u001b[0m\u001b[0;34m\"tex_template\"\u001b[0m\u001b[0;34m]\u001b[0m\u001b[0;34m\u001b[0m\u001b[0;34m\u001b[0m\u001b[0m\n\u001b[1;32m     45\u001b[0m     \u001b[0mtex_file\u001b[0m \u001b[0;34m=\u001b[0m \u001b[0mgenerate_tex_file\u001b[0m\u001b[0;34m(\u001b[0m\u001b[0mexpression\u001b[0m\u001b[0;34m,\u001b[0m \u001b[0menvironment\u001b[0m\u001b[0;34m,\u001b[0m \u001b[0mtex_template\u001b[0m\u001b[0;34m)\u001b[0m\u001b[0;34m\u001b[0m\u001b[0;34m\u001b[0m\u001b[0m\n\u001b[0;32m---> 46\u001b[0;31m     dvi_file = compile_tex(\n\u001b[0m\u001b[1;32m     47\u001b[0m         \u001b[0mtex_file\u001b[0m\u001b[0;34m,\u001b[0m\u001b[0;34m\u001b[0m\u001b[0;34m\u001b[0m\u001b[0m\n\u001b[1;32m     48\u001b[0m         \u001b[0mtex_template\u001b[0m\u001b[0;34m.\u001b[0m\u001b[0mtex_compiler\u001b[0m\u001b[0;34m,\u001b[0m\u001b[0;34m\u001b[0m\u001b[0;34m\u001b[0m\u001b[0m\n",
      "\u001b[0;32m~/.pyenv/versions/3.9.6/lib/python3.9/site-packages/manim/utils/tex_file_writing.py\u001b[0m in \u001b[0;36mcompile_tex\u001b[0;34m(tex_file, tex_compiler, output_format)\u001b[0m\n\u001b[1;32m    237\u001b[0m                                     \u001b[0mlogger\u001b[0m\u001b[0;34m.\u001b[0m\u001b[0minfo\u001b[0m\u001b[0;34m(\u001b[0m\u001b[0minsight\u001b[0m\u001b[0;34m)\u001b[0m\u001b[0;34m\u001b[0m\u001b[0;34m\u001b[0m\u001b[0m\n\u001b[1;32m    238\u001b[0m \u001b[0;34m\u001b[0m\u001b[0m\n\u001b[0;32m--> 239\u001b[0;31m             raise ValueError(\n\u001b[0m\u001b[1;32m    240\u001b[0m                 \u001b[0;34mf\"{tex_compiler} error converting to\"\u001b[0m\u001b[0;34m\u001b[0m\u001b[0;34m\u001b[0m\u001b[0m\n\u001b[1;32m    241\u001b[0m                 \u001b[0;34mf\" {output_format[1:]}. See log output above or\"\u001b[0m\u001b[0;34m\u001b[0m\u001b[0;34m\u001b[0m\u001b[0m\n",
      "\u001b[0;31mValueError\u001b[0m: latex error converting to dvi. See log output above or the log file: media/Tex/58d89d06a8c1c8f1.log"
     ]
    }
   ],
   "source": [
    "%%manim -qm -v WARNING ColoredFrac\n",
    "\n",
    "class  ColoredFrac(Scene):\n",
    "    def construct(self):\n",
    "        eqn = MathTex(r'{\\frac{ 1 {{21}} }{7}}', font_size=144)\n",
    "        eqn.set_color_by_tex('21', RED)\n",
    "        self.add(eqn)\n",
    "        self.wait()"
   ]
  },
  {
   "cell_type": "code",
   "execution_count": null,
   "metadata": {},
   "outputs": [],
   "source": []
  }
 ],
 "metadata": {
  "interpreter": {
   "hash": "aefba3b8d79828637bd7c13b7dfd16b4e7e65b07811eea10361d86810eaa6fe6"
  },
  "kernelspec": {
   "display_name": "Python 3.9.6 64-bit ('3.9.6': pyenv)",
   "name": "python3"
  },
  "language_info": {
   "codemirror_mode": {
    "name": "ipython",
    "version": 3
   },
   "file_extension": ".py",
   "mimetype": "text/x-python",
   "name": "python",
   "nbconvert_exporter": "python",
   "pygments_lexer": "ipython3",
   "version": "3.9.6"
  },
  "orig_nbformat": 4
 },
 "nbformat": 4,
 "nbformat_minor": 2
}
