{
 "cells": [
  {
   "cell_type": "code",
   "execution_count": 1,
   "metadata": {},
   "outputs": [
    {
     "data": {
      "text/html": [
       "<pre style=\"white-space:pre;overflow-x:auto;line-height:normal;font-family:Menlo,'DejaVu Sans Mono',consolas,'Courier New',monospace\">Manim Community <span style=\"color: #008000\">v0.15.1</span>\n",
       "\n",
       "</pre>\n"
      ],
      "text/plain": [
       "<rich.jupyter.JupyterRenderable at 0x7fc80aadb3d0>"
      ]
     },
     "metadata": {},
     "output_type": "display_data"
    }
   ],
   "source": [
    "from manim import *"
   ]
  },
  {
   "cell_type": "code",
   "execution_count": 22,
   "metadata": {},
   "outputs": [
    {
     "name": "stderr",
     "output_type": "stream",
     "text": [
      "                                                                                                                                                        \r"
     ]
    },
    {
     "data": {
      "text/html": [
       "<video src=\"media/jupyter/TezkaRovnice@2022-04-20@08-52-01.mp4\" controls autoplay loop style=\"max-width: 60%;\"  >\n",
       "      Your browser does not support the <code>video</code> element.\n",
       "    </video>"
      ],
      "text/plain": [
       "<IPython.core.display.Video object>"
      ]
     },
     "metadata": {},
     "output_type": "display_data"
    }
   ],
   "source": [
    "%%manim -qm -v WARNING TezkaRovnice\n",
    "class TezkaRovnice(Scene):\n",
    "    def construct(self):\n",
    "        a,b=0.01,0.01 #For debugging purposes\n",
    "        eq_pad = MathTex(\n",
    "            r't_{\\text{pád}}',\n",
    "            r' = ',\n",
    "            r'\\sqrt',\n",
    "            r'{\\frac{2h}{g}}'\n",
    "        )\n",
    "\n",
    "        eq_pad.move_to(UP)\n",
    "\n",
    "        self.play(Write(eq_pad[0]), run_time=a)\n",
    "        self.wait(b)\n",
    "        self.play(Write(eq_pad[1]), run_time=a)\n",
    "        self.play(Write(eq_pad[3]), run_time=a)\n",
    "        self.play(Write(eq_pad[2]), run_time=a)\n",
    "\n",
    "        eq_zvuk = MathTex(\n",
    "            r't_{\\text{zvuk}}',\n",
    "            r' = ',\n",
    "            r'\\frac{h}{v_{\\text{zvuk}}}'\n",
    "        )\n",
    "\n",
    "        eq_zvuk.next_to(\n",
    "            eq_pad.get_part_by_tex('='),\n",
    "            DOWN,\n",
    "            submobject_to_align=eq_zvuk.get_part_by_tex('=')\n",
    "        ).shift(DOWN)\n",
    "\n",
    "        self.play(Write(eq_zvuk[0]), run_time=a)\n",
    "        self.wait(b)\n",
    "        self.play(Write(eq_zvuk[1]), run_time=a)\n",
    "        self.wait(b)\n",
    "        self.play(Write(eq_zvuk[2]), run_time=a)\n",
    "\n",
    "        eq_celk = MathTex(\n",
    "            r't',\n",
    "            r'=',\n",
    "            r'\\sqrt',\n",
    "            r'{\\frac{2h}{g}}',\n",
    "            r'+',\n",
    "            r'\\frac{h}{v_{\\text{zvuk}}}'\n",
    "        )\n",
    "\n",
    "        self.wait(b)\n",
    "        self.play(\n",
    "            FadeOut(\n",
    "                eq_pad[0],\n",
    "                eq_pad[1],\n",
    "                eq_zvuk[0],\n",
    "                eq_zvuk[1],\n",
    "            ),\n",
    "            eq_pad[2].animate.move_to(eq_celk[2]),\n",
    "            eq_pad[3].animate.move_to(eq_celk[3]),\n",
    "            eq_zvuk[2].animate.move_to(eq_celk[5]),\n",
    "            run_time=a\n",
    "        )\n",
    "        self.play(Write(eq_celk[0]),Write(eq_celk[1]), Write(eq_celk[4]), run_time=a)\n",
    "        self.wait(b)\n",
    "\n",
    "        eq_celk_lhs = eq_celk[0]\n",
    "        eq_celk_rhs = Group(*[eq_celk[i] for i in range(1,6)])\n",
    "\n",
    "        eq_fce_h = MathTex(\n",
    "            r't',\n",
    "            r'(h)',\n",
    "            r'= \\sqrt{\\frac{2h}{g}} + \\frac{h}{v_{\\text{zvuk}}}'\n",
    "        )\n",
    "\n",
    "\n",
    "        self.wait(1)\n",
    "        self.clear()\n",
    "        self.play(\n",
    "            eq_celk_lhs.animate.move_to(eq_fce_h[0]),\n",
    "            eq_celk_rhs.animate.move_to(eq_fce_h[2]),\n",
    "            run_time=1\n",
    "        )\n",
    "\n",
    "        self.add(*[index_labels(submob) for submob in eq_fce_h]) #Reveals components of the TeX object\n",
    "        \n",
    "        self.play(Write(eq_fce_h[1]), run_time=1)\n",
    "\n",
    "\n",
    "        eq_fce_h = MathTex(\n",
    "            r't(',\n",
    "            'h',\n",
    "            r') = \\sqrt{\\frac{2h}{g}} + \\frac{h}{v_{\\text{zvuk}}}'\n",
    "        )\n",
    "        self.clear()\n",
    "        self.add(eq_fce_h)\n",
    "\n",
    "        self.wait(2)\n",
    "        \n",
    "        self.play(\n",
    "            eq_fce_h[1].animate.set_color_by_tex('h', BLUE)\n",
    "          #  eq_fce_h[2][3:4].animate.set_color_by_tex('h', BLUE)\n",
    "          #  eq_fce_h[2][8].animate.set_color_by_tex('h', BLUE)\n",
    "        )\n",
    "\n",
    "        self.wait(2)\n",
    "\n",
    "\n",
    "\n",
    "\n",
    "        \n",
    "        \n",
    "        "
   ]
  },
  {
   "cell_type": "code",
   "execution_count": 11,
   "metadata": {},
   "outputs": [
    {
     "name": "stderr",
     "output_type": "stream",
     "text": [
      "                                                                                                                                                                              \r"
     ]
    },
    {
     "data": {
      "text/html": [
       "<video src=\"media/jupyter/Reseni@2022-04-20@08-17-05.mp4\" controls autoplay loop style=\"max-width: 60%;\"  >\n",
       "      Your browser does not support the <code>video</code> element.\n",
       "    </video>"
      ],
      "text/plain": [
       "<IPython.core.display.Video object>"
      ]
     },
     "metadata": {},
     "output_type": "display_data"
    }
   ],
   "source": [
    "%%manim -qm -v WARNING Reseni\n",
    "class Reseni(Scene):\n",
    "    def construct(self):\n",
    "        eq1 = MathTex(\n",
    "            r't = \\sqrt{\\frac{2}{g}} \\, {{\\sqrt{h}}} + \\frac{1}{v_{\\text{zvuk}}} \\, {{h}}'\n",
    "        )\n",
    "        eq1.shift(1.5 * UP)\n",
    "        self.add(eq1)\n",
    "        self.wait()\n",
    "\n",
    "        eq_y = MathTex(r'{{y}} = {{\\sqrt h}}')\n",
    "        self.play(Write(eq_y))\n",
    "        \n",
    "        self.play(\n",
    "            eq1.animate.set_color_by_tex('h', BLUE),\n",
    "            eq_y.animate.set_color_by_tex('h', BLUE)\n",
    "        )\n",
    "\n",
    "        self.wait()\n",
    "\n",
    "        eq1_part_h = eq1[3]\n",
    "        eq_h_to_sqrt = MathTex(\n",
    "            r'({{\\sqrt{h}}})^2'\n",
    "        )\n",
    "        eq_h_to_sqrt.move_to(eq1_part_h).shift(0.4*RIGHT)\n",
    "        eq_h_to_sqrt.set_color_by_tex('h', BLUE)\n",
    "\n",
    "        self.play(Transform(eq1_part_h, eq_h_to_sqrt))\n",
    "        self.remove(eq1_part_h)\n",
    "        self.add(eq_h_to_sqrt)\n",
    "        self.wait()\n",
    "\n",
    "        self.play(\n",
    "            eq_y[0].copy().animate.move_to(eq1.get_part_by_tex('h'), DOWN),\n",
    "            eq_y[0].copy().animate.move_to(eq_h_to_sqrt, DOWN),\n",
    "            FadeOut(eq1.get_part_by_tex('h')),\n",
    "            FadeOut(eq_h_to_sqrt.get_part_by_tex('h'))\n",
    "        )\n",
    "\n",
    "        self.wait(3)\n",
    "\n",
    "\n"
   ]
  },
  {
   "cell_type": "code",
   "execution_count": null,
   "metadata": {},
   "outputs": [],
   "source": []
  }
 ],
 "metadata": {
  "interpreter": {
   "hash": "4e1d9a8909477db77738c33245c29c7265277ef753467dede8cf3f814cde494e"
  },
  "kernelspec": {
   "display_name": "Python 3.10.4 64-bit",
   "language": "python",
   "name": "python3"
  },
  "language_info": {
   "codemirror_mode": {
    "name": "ipython",
    "version": 3
   },
   "file_extension": ".py",
   "mimetype": "text/x-python",
   "name": "python",
   "nbconvert_exporter": "python",
   "pygments_lexer": "ipython3",
   "version": "3.10.4"
  },
  "orig_nbformat": 4
 },
 "nbformat": 4,
 "nbformat_minor": 2
}
